{
 "cells": [
  {
   "cell_type": "code",
   "execution_count": null,
   "metadata": {},
   "outputs": [],
   "source": [
    "'''\n",
    "=================================================================================\n",
    "Nama  : Teguh Sukmanaputra\n",
    "Batch : RMT-29\n",
    "\n",
    "Program ini berisi serangkaian metode untuk melaksanakan analisis data science. Diawali dengan pengumpulan/gathering data\n",
    "menggunakan metode Web Scraping pada sebuah website e-commerce, kemudian data yang terkumpul dilanjutkan pada tahapan Data \n",
    "Preparation & Cleaning. Setelahnya, akan dilakukan analisa data berdasarkan Business Knowledge yang tentunya diperkuat dengan\n",
    "adanya Practical Statistics sebagai penguat argumentasi/hipotesis analisa data.\n",
    "\n",
    "=================================================================================\n",
    "'''"
   ]
  },
  {
   "cell_type": "markdown",
   "metadata": {},
   "source": [
    "## Case"
   ]
  },
  {
   "cell_type": "markdown",
   "metadata": {},
   "source": [
    "Menjadi seorang yang ingin melakukan usaha dropship produk 'seblak' di platform Tokopedia, namun ingin melakukan riset/analisa pasar terlebih dahulu terkait bagaimana animo masyarakat terhadap produk tersebut dengan melihat tren/tingkat penjualan produk pada laman website e-commerce Tokopedia."
   ]
  },
  {
   "cell_type": "markdown",
   "metadata": {},
   "source": [
    "***"
   ]
  },
  {
   "cell_type": "markdown",
   "metadata": {},
   "source": [
    "## Library"
   ]
  },
  {
   "cell_type": "code",
   "execution_count": 49,
   "metadata": {},
   "outputs": [],
   "source": [
    "# import package yang dibutuhkan\n",
    "from bs4 import BeautifulSoup\n",
    "from selenium import webdriver\n",
    "from selenium.webdriver.chrome.service import Service as ChromeService\n",
    "from webdriver_manager.chrome import ChromeDriverManager\n",
    "import pandas as pd\n",
    "import numpy as np\n",
    "import time\n",
    "import seaborn as sns\n",
    "import matplotlib.pyplot as plt"
   ]
  },
  {
   "cell_type": "markdown",
   "metadata": {},
   "source": [
    "## A. Web Scraping\n",
    "Dilakukan pengambilan data produk dengan kata kunci \"seblak\" yang bersumber dari sebuah website e-commerce. Berikut merupakan link unutk akses website tersebut:\n",
    "<br>\n",
    "    https://www.tokopedia.com/search?navsource=&page=1&q=seblak&srp_component_id=02.01.00.00&srp_page_id=&srp_page_title=&st=\n",
    "<br>\n",
    "<br>\n",
    "Adapun data yang akan diambil pada web tersebut diantara nya yaitu: `Nama Produk`, `Harga Produk`, `Penjual`, `Kota Toko`, `Jumlah/Banyaknya Produk yang Terjual`, `dan Rating Produk`."
   ]
  },
  {
   "cell_type": "code",
   "execution_count": 2,
   "metadata": {},
   "outputs": [],
   "source": [
    "# menggunakan google chrome sebagai driver\n",
    "driver = webdriver.Chrome(service=ChromeService(ChromeDriverManager().install()))"
   ]
  },
  {
   "cell_type": "code",
   "execution_count": 3,
   "metadata": {},
   "outputs": [],
   "source": [
    "# melakukan multiple pages web scraping\n",
    "nama = []\n",
    "harga = []\n",
    "toko = []\n",
    "kota = []\n",
    "penjualan = []\n",
    "rating = []\n",
    "\n",
    "for i in range(1, 11):\n",
    "    url = \"https://www.tokopedia.com/search?navsource=&page={}&q=seblak&srp_component_id=02.01.00.00&srp_page_id=&srp_page_title=&st=\".format(i)\n",
    "    driver.get(url)\n",
    "    time.sleep(5)\n",
    "    html = driver.page_source\n",
    "    soup = BeautifulSoup(html, \"html.parser\")\n",
    "\n",
    "    products = soup.find_all('div', class_='css-1asz3by')  # section dari produk regular yang akan di scrape informasinya\n",
    "\n",
    "\n",
    "    for product in products: # melakukan looping untuk pengambilan data dari section yang telah ditetapkan\n",
    "        product_name = product.find('div', class_='prd_link-product-name css-3um8ox')\n",
    "        if product_name:\n",
    "            nama.append(product_name.get_text())\n",
    "        else:\n",
    "            nama.append(None)\n",
    "\n",
    "        product_price = product.find('div', class_='prd_link-product-price css-h66vau')\n",
    "        if product_price:\n",
    "            harga.append(product_price.get_text())\n",
    "        else:\n",
    "            harga.append(None)\n",
    "\n",
    "        shop_name = product.find('span', class_='prd_link-shop-name css-1kdc32b flip')\n",
    "        if shop_name:\n",
    "            toko.append(shop_name.get_text())\n",
    "        else:\n",
    "            toko.append(None)\n",
    "\n",
    "        shop_location = product.find('span', class_='prd_link-shop-loc css-1kdc32b flip')\n",
    "        if shop_location:\n",
    "            kota.append(shop_location.get_text())\n",
    "        else:\n",
    "            kota.append(None)\n",
    "        \n",
    "        sales = product.find('span', class_='prd_label-integrity css-1sgek4h')\n",
    "        if sales:\n",
    "            penjualan.append(sales.get_text())\n",
    "        else:\n",
    "            penjualan.append(None)\n",
    "\n",
    "        rating_value = product.find('span', class_='prd_rating-average-text css-t70v7i')\n",
    "        if rating_value:\n",
    "            rating.append(rating_value.get_text())\n",
    "        else:\n",
    "            rating.append(None)\n",
    "\n",
    "driver.close()\n",
    "\n",
    "data_multipage = pd.DataFrame()\n",
    "data_multipage['nama_produk'] = nama\n",
    "data_multipage['harga_produk'] = harga\n",
    "data_multipage['toko'] = toko\n",
    "data_multipage['kota'] = kota\n",
    "data_multipage['jumlah_penjualan'] = penjualan\n",
    "data_multipage['rating_produk'] = rating"
   ]
  },
  {
   "cell_type": "code",
   "execution_count": 4,
   "metadata": {},
   "outputs": [
    {
     "data": {
      "text/html": [
       "<div>\n",
       "<style scoped>\n",
       "    .dataframe tbody tr th:only-of-type {\n",
       "        vertical-align: middle;\n",
       "    }\n",
       "\n",
       "    .dataframe tbody tr th {\n",
       "        vertical-align: top;\n",
       "    }\n",
       "\n",
       "    .dataframe thead th {\n",
       "        text-align: right;\n",
       "    }\n",
       "</style>\n",
       "<table border=\"1\" class=\"dataframe\">\n",
       "  <thead>\n",
       "    <tr style=\"text-align: right;\">\n",
       "      <th></th>\n",
       "      <th>nama_produk</th>\n",
       "      <th>harga_produk</th>\n",
       "      <th>toko</th>\n",
       "      <th>kota</th>\n",
       "      <th>jumlah_penjualan</th>\n",
       "      <th>rating_produk</th>\n",
       "    </tr>\n",
       "  </thead>\n",
       "  <tbody>\n",
       "    <tr>\n",
       "      <th>0</th>\n",
       "      <td>MASJAY Seblak Bumbu Membara Instant - No.1 Str...</td>\n",
       "      <td>Rp15.000</td>\n",
       "      <td>None</td>\n",
       "      <td>None</td>\n",
       "      <td>250+ terjual</td>\n",
       "      <td>4.9</td>\n",
       "    </tr>\n",
       "    <tr>\n",
       "      <th>1</th>\n",
       "      <td>Geli Food Seblak Ceker Tanpa Tulang Super Peda...</td>\n",
       "      <td>Rp24.000</td>\n",
       "      <td>None</td>\n",
       "      <td>None</td>\n",
       "      <td>80+ terjual</td>\n",
       "      <td>5.0</td>\n",
       "    </tr>\n",
       "    <tr>\n",
       "      <th>2</th>\n",
       "      <td>Gelifood Seblak Instan Kerupuk Mawar Bumbu Ken...</td>\n",
       "      <td>Rp15.000</td>\n",
       "      <td>None</td>\n",
       "      <td>None</td>\n",
       "      <td>250+ terjual</td>\n",
       "      <td>4.8</td>\n",
       "    </tr>\n",
       "    <tr>\n",
       "      <th>3</th>\n",
       "      <td>Seblak Instan Ceu Nthien Khas Bandung Rasana N...</td>\n",
       "      <td>Rp17.000</td>\n",
       "      <td>Central Seblak Nusantara</td>\n",
       "      <td>Tangerang Selatan</td>\n",
       "      <td>2rb+ terjual</td>\n",
       "      <td>4.9</td>\n",
       "    </tr>\n",
       "    <tr>\n",
       "      <th>4</th>\n",
       "      <td>Kerupuk seblak pedas</td>\n",
       "      <td>Rp15.000</td>\n",
       "      <td>MACALONI SNACK</td>\n",
       "      <td>Cimahi</td>\n",
       "      <td>10 terjual</td>\n",
       "      <td>5.0</td>\n",
       "    </tr>\n",
       "    <tr>\n",
       "      <th>...</th>\n",
       "      <td>...</td>\n",
       "      <td>...</td>\n",
       "      <td>...</td>\n",
       "      <td>...</td>\n",
       "      <td>...</td>\n",
       "      <td>...</td>\n",
       "    </tr>\n",
       "    <tr>\n",
       "      <th>372</th>\n",
       "      <td>SEBRING KRUPUK KERUPUK SEBLAK KERING PEDAS DAU...</td>\n",
       "      <td>Rp16.000</td>\n",
       "      <td>Aydaa Snack</td>\n",
       "      <td>Surakarta</td>\n",
       "      <td>90+ terjual</td>\n",
       "      <td>4.9</td>\n",
       "    </tr>\n",
       "    <tr>\n",
       "      <th>373</th>\n",
       "      <td>Gelifood Seblak Instan Kerupuk Mawar Bumbu Ken...</td>\n",
       "      <td>Rp15.000</td>\n",
       "      <td>Lidigeli</td>\n",
       "      <td>Kab. Garut</td>\n",
       "      <td>250+ terjual</td>\n",
       "      <td>4.8</td>\n",
       "    </tr>\n",
       "    <tr>\n",
       "      <th>374</th>\n",
       "      <td>kerupuk seblak polos pedas 500gr jajanan cemil...</td>\n",
       "      <td>Rp20.000</td>\n",
       "      <td>pelangi khatulistiwa 2</td>\n",
       "      <td>Surabaya</td>\n",
       "      <td>40+ terjual</td>\n",
       "      <td>4.9</td>\n",
       "    </tr>\n",
       "    <tr>\n",
       "      <th>375</th>\n",
       "      <td>seblak basreng pedas original exstra daun jeru...</td>\n",
       "      <td>Rp25.000</td>\n",
       "      <td>Seblak putra bandung</td>\n",
       "      <td>Kab. Bandung</td>\n",
       "      <td>250+ terjual</td>\n",
       "      <td>4.8</td>\n",
       "    </tr>\n",
       "    <tr>\n",
       "      <th>376</th>\n",
       "      <td>Kerupuk Seblak Rafael Pedas / Seblak Mawar Ped...</td>\n",
       "      <td>Rp16.000</td>\n",
       "      <td>DUO BOCIL SNACK</td>\n",
       "      <td>Depok</td>\n",
       "      <td>100+ terjual</td>\n",
       "      <td>5.0</td>\n",
       "    </tr>\n",
       "  </tbody>\n",
       "</table>\n",
       "<p>377 rows × 6 columns</p>\n",
       "</div>"
      ],
      "text/plain": [
       "                                           nama_produk harga_produk  \\\n",
       "0    MASJAY Seblak Bumbu Membara Instant - No.1 Str...     Rp15.000   \n",
       "1    Geli Food Seblak Ceker Tanpa Tulang Super Peda...     Rp24.000   \n",
       "2    Gelifood Seblak Instan Kerupuk Mawar Bumbu Ken...     Rp15.000   \n",
       "3    Seblak Instan Ceu Nthien Khas Bandung Rasana N...     Rp17.000   \n",
       "4                                 Kerupuk seblak pedas     Rp15.000   \n",
       "..                                                 ...          ...   \n",
       "372  SEBRING KRUPUK KERUPUK SEBLAK KERING PEDAS DAU...     Rp16.000   \n",
       "373  Gelifood Seblak Instan Kerupuk Mawar Bumbu Ken...     Rp15.000   \n",
       "374  kerupuk seblak polos pedas 500gr jajanan cemil...     Rp20.000   \n",
       "375  seblak basreng pedas original exstra daun jeru...     Rp25.000   \n",
       "376  Kerupuk Seblak Rafael Pedas / Seblak Mawar Ped...     Rp16.000   \n",
       "\n",
       "                         toko               kota jumlah_penjualan  \\\n",
       "0                        None               None     250+ terjual   \n",
       "1                        None               None      80+ terjual   \n",
       "2                        None               None     250+ terjual   \n",
       "3    Central Seblak Nusantara  Tangerang Selatan     2rb+ terjual   \n",
       "4              MACALONI SNACK             Cimahi       10 terjual   \n",
       "..                        ...                ...              ...   \n",
       "372               Aydaa Snack          Surakarta      90+ terjual   \n",
       "373                  Lidigeli         Kab. Garut     250+ terjual   \n",
       "374    pelangi khatulistiwa 2           Surabaya      40+ terjual   \n",
       "375      Seblak putra bandung       Kab. Bandung     250+ terjual   \n",
       "376           DUO BOCIL SNACK              Depok     100+ terjual   \n",
       "\n",
       "    rating_produk  \n",
       "0             4.9  \n",
       "1             5.0  \n",
       "2             4.8  \n",
       "3             4.9  \n",
       "4             5.0  \n",
       "..            ...  \n",
       "372           4.9  \n",
       "373           4.8  \n",
       "374           4.9  \n",
       "375           4.8  \n",
       "376           5.0  \n",
       "\n",
       "[377 rows x 6 columns]"
      ]
     },
     "execution_count": 4,
     "metadata": {},
     "output_type": "execute_result"
    }
   ],
   "source": [
    "# cek hasil scraping\n",
    "data_multipage"
   ]
  },
  {
   "cell_type": "markdown",
   "metadata": {},
   "source": [
    "* Berdsarkan web scraping yang dilakukan, didapat sebanyak 377 data/records dengan kategori data yang telah ditentukan berdasarkan kolomnya."
   ]
  },
  {
   "cell_type": "code",
   "execution_count": 5,
   "metadata": {},
   "outputs": [],
   "source": [
    "# data backup hasil scraping\n",
    "data_multipage.to_csv('data_backup_scraping.csv')\n",
    "\n",
    "# dikarenakan website tokopedia yang dinamis, saya berinisiatif untuk menyimpan hasil web scraping menjadi sebuah file csv.\n",
    "# sehingga, tidak perlu mengulang proses web scraping yang nantinya berkemungkinan dapat berbeda dengan dataset yang telah diolah dan diinterpretasikan. "
   ]
  },
  {
   "cell_type": "markdown",
   "metadata": {},
   "source": [
    "***"
   ]
  },
  {
   "cell_type": "markdown",
   "metadata": {},
   "source": [
    "## B. Data Cleaning & Preparation\n",
    "Pada bagian ini, dataset hasil scraping yang telah diperoleh akan dibersihkan dan disiapkan untuk dapat dianalisis setelahnya."
   ]
  },
  {
   "cell_type": "code",
   "execution_count": 3,
   "metadata": {},
   "outputs": [],
   "source": [
    "# syntax ini digunakan untuk memanggil file csv yang telah di save sebelumnya\n",
    "# sehingga apabila saya keluar dari VSCode, maka tidak perlu melakukan web scraping dari awal\n",
    "data_multipage = pd.read_csv('data_backup_webscraping.csv')"
   ]
  },
  {
   "cell_type": "code",
   "execution_count": 4,
   "metadata": {},
   "outputs": [
    {
     "name": "stdout",
     "output_type": "stream",
     "text": [
      "<class 'pandas.core.frame.DataFrame'>\n",
      "RangeIndex: 377 entries, 0 to 376\n",
      "Data columns (total 6 columns):\n",
      " #   Column            Non-Null Count  Dtype  \n",
      "---  ------            --------------  -----  \n",
      " 0   nama_produk       377 non-null    object \n",
      " 1   harga_produk      377 non-null    object \n",
      " 2   toko              350 non-null    object \n",
      " 3   kota              350 non-null    object \n",
      " 4   jumlah_penjualan  368 non-null    object \n",
      " 5   rating_produk     352 non-null    float64\n",
      "dtypes: float64(1), object(5)\n",
      "memory usage: 17.8+ KB\n"
     ]
    }
   ],
   "source": [
    "# melihat karakteristik umum dari dataframe\n",
    "data_multipage.info()"
   ]
  },
  {
   "cell_type": "markdown",
   "metadata": {},
   "source": [
    "* Berdasarkan informasi umum ini, dapat diketahui bahwa **terdapat missing values** yang cukup banyak. Hal tersebut terlihat dari perhitungan non-null dari tiap kolomnya dimana pada kolom toko hingga rating_produk memiliki jumlah count yang lebih sedikit dibandingkan kolom nama dan harga produk yang menjadi values acuan. Kemudian, dapat diketahui pula bahwa **tipe data dari tiap kolom masih berupa string/object**, sehingga perlu disesuaikan kembali dengan tujuan datanya, seperti kolom harga_produk, jumlah_penjualan, dan rating_produk yang seharusnya bertipe numeric/angka agar dapat dianalisis secara statistik."
   ]
  },
  {
   "cell_type": "code",
   "execution_count": 5,
   "metadata": {},
   "outputs": [
    {
     "data": {
      "text/html": [
       "<div>\n",
       "<style scoped>\n",
       "    .dataframe tbody tr th:only-of-type {\n",
       "        vertical-align: middle;\n",
       "    }\n",
       "\n",
       "    .dataframe tbody tr th {\n",
       "        vertical-align: top;\n",
       "    }\n",
       "\n",
       "    .dataframe thead th {\n",
       "        text-align: right;\n",
       "    }\n",
       "</style>\n",
       "<table border=\"1\" class=\"dataframe\">\n",
       "  <thead>\n",
       "    <tr style=\"text-align: right;\">\n",
       "      <th></th>\n",
       "      <th>nama_produk</th>\n",
       "      <th>harga_produk</th>\n",
       "      <th>toko</th>\n",
       "      <th>kota</th>\n",
       "      <th>jumlah_penjualan</th>\n",
       "      <th>rating_produk</th>\n",
       "    </tr>\n",
       "  </thead>\n",
       "  <tbody>\n",
       "    <tr>\n",
       "      <th>3</th>\n",
       "      <td>Seblak Instan Ceu Nthien Khas Bandung Rasana N...</td>\n",
       "      <td>Rp17.000</td>\n",
       "      <td>Central Seblak Nusantara</td>\n",
       "      <td>Tangerang Selatan</td>\n",
       "      <td>2rb+ terjual</td>\n",
       "      <td>4.9</td>\n",
       "    </tr>\n",
       "    <tr>\n",
       "      <th>4</th>\n",
       "      <td>Kerupuk seblak pedas</td>\n",
       "      <td>Rp15.000</td>\n",
       "      <td>MACALONI SNACK</td>\n",
       "      <td>Cimahi</td>\n",
       "      <td>10 terjual</td>\n",
       "      <td>5.0</td>\n",
       "    </tr>\n",
       "    <tr>\n",
       "      <th>5</th>\n",
       "      <td>GFS Seblak Basah Instan Original - Tinggal Sed...</td>\n",
       "      <td>Rp16.618</td>\n",
       "      <td>Lakoca Official Shop</td>\n",
       "      <td>Cimahi</td>\n",
       "      <td>100+ terjual</td>\n",
       "      <td>4.9</td>\n",
       "    </tr>\n",
       "    <tr>\n",
       "      <th>6</th>\n",
       "      <td>KERUPUK SEBLAK MENTAH 1KG WARNA WARNI - Mawar ...</td>\n",
       "      <td>Rp23.500</td>\n",
       "      <td>BociKakang</td>\n",
       "      <td>Jakarta Selatan</td>\n",
       "      <td>250+ terjual</td>\n",
       "      <td>5.0</td>\n",
       "    </tr>\n",
       "    <tr>\n",
       "      <th>8</th>\n",
       "      <td>Seblak Rafael, Seblak Coet Instan Halal</td>\n",
       "      <td>Rp25.000</td>\n",
       "      <td>Brother Meat Shop</td>\n",
       "      <td>Depok</td>\n",
       "      <td>250+ terjual</td>\n",
       "      <td>5.0</td>\n",
       "    </tr>\n",
       "    <tr>\n",
       "      <th>...</th>\n",
       "      <td>...</td>\n",
       "      <td>...</td>\n",
       "      <td>...</td>\n",
       "      <td>...</td>\n",
       "      <td>...</td>\n",
       "      <td>...</td>\n",
       "    </tr>\n",
       "    <tr>\n",
       "      <th>372</th>\n",
       "      <td>SEBRING KRUPUK KERUPUK SEBLAK KERING PEDAS DAU...</td>\n",
       "      <td>Rp16.000</td>\n",
       "      <td>Aydaa Snack</td>\n",
       "      <td>Surakarta</td>\n",
       "      <td>90+ terjual</td>\n",
       "      <td>4.9</td>\n",
       "    </tr>\n",
       "    <tr>\n",
       "      <th>373</th>\n",
       "      <td>Gelifood Seblak Instan Kerupuk Mawar Bumbu Ken...</td>\n",
       "      <td>Rp15.000</td>\n",
       "      <td>Lidigeli</td>\n",
       "      <td>Kab. Garut</td>\n",
       "      <td>250+ terjual</td>\n",
       "      <td>4.8</td>\n",
       "    </tr>\n",
       "    <tr>\n",
       "      <th>374</th>\n",
       "      <td>kerupuk seblak polos pedas 500gr jajanan cemil...</td>\n",
       "      <td>Rp20.000</td>\n",
       "      <td>pelangi khatulistiwa 2</td>\n",
       "      <td>Surabaya</td>\n",
       "      <td>40+ terjual</td>\n",
       "      <td>4.9</td>\n",
       "    </tr>\n",
       "    <tr>\n",
       "      <th>375</th>\n",
       "      <td>seblak basreng pedas original exstra daun jeru...</td>\n",
       "      <td>Rp25.000</td>\n",
       "      <td>Seblak putra bandung</td>\n",
       "      <td>Kab. Bandung</td>\n",
       "      <td>250+ terjual</td>\n",
       "      <td>4.8</td>\n",
       "    </tr>\n",
       "    <tr>\n",
       "      <th>376</th>\n",
       "      <td>Kerupuk Seblak Rafael Pedas / Seblak Mawar Ped...</td>\n",
       "      <td>Rp16.000</td>\n",
       "      <td>DUO BOCIL SNACK</td>\n",
       "      <td>Depok</td>\n",
       "      <td>100+ terjual</td>\n",
       "      <td>5.0</td>\n",
       "    </tr>\n",
       "  </tbody>\n",
       "</table>\n",
       "<p>340 rows × 6 columns</p>\n",
       "</div>"
      ],
      "text/plain": [
       "                                           nama_produk harga_produk  \\\n",
       "3    Seblak Instan Ceu Nthien Khas Bandung Rasana N...     Rp17.000   \n",
       "4                                 Kerupuk seblak pedas     Rp15.000   \n",
       "5    GFS Seblak Basah Instan Original - Tinggal Sed...     Rp16.618   \n",
       "6    KERUPUK SEBLAK MENTAH 1KG WARNA WARNI - Mawar ...     Rp23.500   \n",
       "8              Seblak Rafael, Seblak Coet Instan Halal     Rp25.000   \n",
       "..                                                 ...          ...   \n",
       "372  SEBRING KRUPUK KERUPUK SEBLAK KERING PEDAS DAU...     Rp16.000   \n",
       "373  Gelifood Seblak Instan Kerupuk Mawar Bumbu Ken...     Rp15.000   \n",
       "374  kerupuk seblak polos pedas 500gr jajanan cemil...     Rp20.000   \n",
       "375  seblak basreng pedas original exstra daun jeru...     Rp25.000   \n",
       "376  Kerupuk Seblak Rafael Pedas / Seblak Mawar Ped...     Rp16.000   \n",
       "\n",
       "                         toko               kota jumlah_penjualan  \\\n",
       "3    Central Seblak Nusantara  Tangerang Selatan     2rb+ terjual   \n",
       "4              MACALONI SNACK             Cimahi       10 terjual   \n",
       "5        Lakoca Official Shop             Cimahi     100+ terjual   \n",
       "6                  BociKakang    Jakarta Selatan     250+ terjual   \n",
       "8           Brother Meat Shop              Depok     250+ terjual   \n",
       "..                        ...                ...              ...   \n",
       "372               Aydaa Snack          Surakarta      90+ terjual   \n",
       "373                  Lidigeli         Kab. Garut     250+ terjual   \n",
       "374    pelangi khatulistiwa 2           Surabaya      40+ terjual   \n",
       "375      Seblak putra bandung       Kab. Bandung     250+ terjual   \n",
       "376           DUO BOCIL SNACK              Depok     100+ terjual   \n",
       "\n",
       "     rating_produk  \n",
       "3              4.9  \n",
       "4              5.0  \n",
       "5              4.9  \n",
       "6              5.0  \n",
       "8              5.0  \n",
       "..             ...  \n",
       "372            4.9  \n",
       "373            4.8  \n",
       "374            4.9  \n",
       "375            4.8  \n",
       "376            5.0  \n",
       "\n",
       "[340 rows x 6 columns]"
      ]
     },
     "execution_count": 5,
     "metadata": {},
     "output_type": "execute_result"
    }
   ],
   "source": [
    "# menghapus baris/rows yang informasinya tidak lengkap\n",
    "df = data_multipage.dropna()\n",
    "df"
   ]
  },
  {
   "cell_type": "code",
   "execution_count": 6,
   "metadata": {},
   "outputs": [],
   "source": [
    "# mengatur ulang formasi index/re-indexing\n",
    "df.reset_index(drop=True, inplace=True) # digunakan 'inplace=True' agar dataframe 'df' dapat langsung termodifikasi didalam dirinya sendiri atau sama seperti 'df = df.reset_index...'"
   ]
  },
  {
   "cell_type": "markdown",
   "metadata": {},
   "source": [
    "* Setelah menghapus row/baris yang terdapat missing values, sekarang jumlah data dataframe menjadi 340 records/baris."
   ]
  },
  {
   "cell_type": "code",
   "execution_count": 7,
   "metadata": {},
   "outputs": [
    {
     "name": "stdout",
     "output_type": "stream",
     "text": [
      "<class 'pandas.core.frame.DataFrame'>\n",
      "RangeIndex: 340 entries, 0 to 339\n",
      "Data columns (total 6 columns):\n",
      " #   Column            Non-Null Count  Dtype  \n",
      "---  ------            --------------  -----  \n",
      " 0   nama_produk       340 non-null    object \n",
      " 1   harga_produk      340 non-null    object \n",
      " 2   toko              340 non-null    object \n",
      " 3   kota              340 non-null    object \n",
      " 4   jumlah_penjualan  340 non-null    object \n",
      " 5   rating_produk     340 non-null    float64\n",
      "dtypes: float64(1), object(5)\n",
      "memory usage: 16.1+ KB\n"
     ]
    }
   ],
   "source": [
    "# cek dataframe\n",
    "df.info()"
   ]
  },
  {
   "cell_type": "markdown",
   "metadata": {},
   "source": [
    "Berikutnya, dilakukan pembersihan karakter data/values seperti pada kolom `harga_produk` dan `jumlah_penjualan` agar dapat diubah menjadi numeric"
   ]
  },
  {
   "cell_type": "code",
   "execution_count": 8,
   "metadata": {},
   "outputs": [
    {
     "name": "stderr",
     "output_type": "stream",
     "text": [
      "C:\\Users\\user\\AppData\\Local\\Temp\\ipykernel_26948\\1436705247.py:2: SettingWithCopyWarning: \n",
      "A value is trying to be set on a copy of a slice from a DataFrame.\n",
      "Try using .loc[row_indexer,col_indexer] = value instead\n",
      "\n",
      "See the caveats in the documentation: https://pandas.pydata.org/pandas-docs/stable/user_guide/indexing.html#returning-a-view-versus-a-copy\n",
      "  df['harga_produk'] = df['harga_produk'].str.replace('Rp','')\n",
      "C:\\Users\\user\\AppData\\Local\\Temp\\ipykernel_26948\\1436705247.py:3: SettingWithCopyWarning: \n",
      "A value is trying to be set on a copy of a slice from a DataFrame.\n",
      "Try using .loc[row_indexer,col_indexer] = value instead\n",
      "\n",
      "See the caveats in the documentation: https://pandas.pydata.org/pandas-docs/stable/user_guide/indexing.html#returning-a-view-versus-a-copy\n",
      "  df['harga_produk'] = df['harga_produk'].str.replace('.','')\n",
      "C:\\Users\\user\\AppData\\Local\\Temp\\ipykernel_26948\\1436705247.py:4: SettingWithCopyWarning: \n",
      "A value is trying to be set on a copy of a slice from a DataFrame.\n",
      "Try using .loc[row_indexer,col_indexer] = value instead\n",
      "\n",
      "See the caveats in the documentation: https://pandas.pydata.org/pandas-docs/stable/user_guide/indexing.html#returning-a-view-versus-a-copy\n",
      "  df['harga_produk'] = pd.to_numeric(df['harga_produk'])\n",
      "C:\\Users\\user\\AppData\\Local\\Temp\\ipykernel_26948\\1436705247.py:7: SettingWithCopyWarning: \n",
      "A value is trying to be set on a copy of a slice from a DataFrame.\n",
      "Try using .loc[row_indexer,col_indexer] = value instead\n",
      "\n",
      "See the caveats in the documentation: https://pandas.pydata.org/pandas-docs/stable/user_guide/indexing.html#returning-a-view-versus-a-copy\n",
      "  df['jumlah_penjualan'] = df['jumlah_penjualan'].str.replace('rb','000')\n",
      "C:\\Users\\user\\AppData\\Local\\Temp\\ipykernel_26948\\1436705247.py:8: SettingWithCopyWarning: \n",
      "A value is trying to be set on a copy of a slice from a DataFrame.\n",
      "Try using .loc[row_indexer,col_indexer] = value instead\n",
      "\n",
      "See the caveats in the documentation: https://pandas.pydata.org/pandas-docs/stable/user_guide/indexing.html#returning-a-view-versus-a-copy\n",
      "  df['jumlah_penjualan'] = df['jumlah_penjualan'].str.replace('+','')\n",
      "C:\\Users\\user\\AppData\\Local\\Temp\\ipykernel_26948\\1436705247.py:9: SettingWithCopyWarning: \n",
      "A value is trying to be set on a copy of a slice from a DataFrame.\n",
      "Try using .loc[row_indexer,col_indexer] = value instead\n",
      "\n",
      "See the caveats in the documentation: https://pandas.pydata.org/pandas-docs/stable/user_guide/indexing.html#returning-a-view-versus-a-copy\n",
      "  df['jumlah_penjualan'] = df['jumlah_penjualan'].str.replace(' terjual','')\n",
      "C:\\Users\\user\\AppData\\Local\\Temp\\ipykernel_26948\\1436705247.py:10: SettingWithCopyWarning: \n",
      "A value is trying to be set on a copy of a slice from a DataFrame.\n",
      "Try using .loc[row_indexer,col_indexer] = value instead\n",
      "\n",
      "See the caveats in the documentation: https://pandas.pydata.org/pandas-docs/stable/user_guide/indexing.html#returning-a-view-versus-a-copy\n",
      "  df['jumlah_penjualan'] = pd.to_numeric(df['jumlah_penjualan'])\n",
      "C:\\Users\\user\\AppData\\Local\\Temp\\ipykernel_26948\\1436705247.py:13: SettingWithCopyWarning: \n",
      "A value is trying to be set on a copy of a slice from a DataFrame.\n",
      "Try using .loc[row_indexer,col_indexer] = value instead\n",
      "\n",
      "See the caveats in the documentation: https://pandas.pydata.org/pandas-docs/stable/user_guide/indexing.html#returning-a-view-versus-a-copy\n",
      "  df['rating_produk'] = pd.to_numeric(df['rating_produk'])\n"
     ]
    }
   ],
   "source": [
    "# pembersihan karakter dan pengubahan tipe data pada kolom 'harga_produk'\n",
    "df['harga_produk'] = df['harga_produk'].str.replace('Rp','')\n",
    "df['harga_produk'] = df['harga_produk'].str.replace('.','')\n",
    "df['harga_produk'] = pd.to_numeric(df['harga_produk'])\n",
    "\n",
    "# pembersihan karakter dan pengubahan tipe data pada kolom 'jumlah_penjualan'\n",
    "df['jumlah_penjualan'] = df['jumlah_penjualan'].str.replace('rb','000')\n",
    "df['jumlah_penjualan'] = df['jumlah_penjualan'].str.replace('+','')\n",
    "df['jumlah_penjualan'] = df['jumlah_penjualan'].str.replace(' terjual','')\n",
    "df['jumlah_penjualan'] = pd.to_numeric(df['jumlah_penjualan'])\n",
    "\n",
    "# mengubah tipe data pada kolom 'rating_produk'\n",
    "df['rating_produk'] = pd.to_numeric(df['rating_produk'])"
   ]
  },
  {
   "cell_type": "code",
   "execution_count": 9,
   "metadata": {},
   "outputs": [
    {
     "name": "stdout",
     "output_type": "stream",
     "text": [
      "<class 'pandas.core.frame.DataFrame'>\n",
      "RangeIndex: 340 entries, 0 to 339\n",
      "Data columns (total 6 columns):\n",
      " #   Column            Non-Null Count  Dtype  \n",
      "---  ------            --------------  -----  \n",
      " 0   nama_produk       340 non-null    object \n",
      " 1   harga_produk      340 non-null    int64  \n",
      " 2   toko              340 non-null    object \n",
      " 3   kota              340 non-null    object \n",
      " 4   jumlah_penjualan  340 non-null    int64  \n",
      " 5   rating_produk     340 non-null    float64\n",
      "dtypes: float64(1), int64(2), object(3)\n",
      "memory usage: 16.1+ KB\n"
     ]
    },
    {
     "data": {
      "text/html": [
       "<div>\n",
       "<style scoped>\n",
       "    .dataframe tbody tr th:only-of-type {\n",
       "        vertical-align: middle;\n",
       "    }\n",
       "\n",
       "    .dataframe tbody tr th {\n",
       "        vertical-align: top;\n",
       "    }\n",
       "\n",
       "    .dataframe thead th {\n",
       "        text-align: right;\n",
       "    }\n",
       "</style>\n",
       "<table border=\"1\" class=\"dataframe\">\n",
       "  <thead>\n",
       "    <tr style=\"text-align: right;\">\n",
       "      <th></th>\n",
       "      <th>nama_produk</th>\n",
       "      <th>harga_produk</th>\n",
       "      <th>toko</th>\n",
       "      <th>kota</th>\n",
       "      <th>jumlah_penjualan</th>\n",
       "      <th>rating_produk</th>\n",
       "    </tr>\n",
       "  </thead>\n",
       "  <tbody>\n",
       "    <tr>\n",
       "      <th>0</th>\n",
       "      <td>Seblak Instan Ceu Nthien Khas Bandung Rasana N...</td>\n",
       "      <td>17000</td>\n",
       "      <td>Central Seblak Nusantara</td>\n",
       "      <td>Tangerang Selatan</td>\n",
       "      <td>2000</td>\n",
       "      <td>4.9</td>\n",
       "    </tr>\n",
       "    <tr>\n",
       "      <th>1</th>\n",
       "      <td>Kerupuk seblak pedas</td>\n",
       "      <td>15000</td>\n",
       "      <td>MACALONI SNACK</td>\n",
       "      <td>Cimahi</td>\n",
       "      <td>10</td>\n",
       "      <td>5.0</td>\n",
       "    </tr>\n",
       "    <tr>\n",
       "      <th>2</th>\n",
       "      <td>GFS Seblak Basah Instan Original - Tinggal Sed...</td>\n",
       "      <td>16618</td>\n",
       "      <td>Lakoca Official Shop</td>\n",
       "      <td>Cimahi</td>\n",
       "      <td>100</td>\n",
       "      <td>4.9</td>\n",
       "    </tr>\n",
       "    <tr>\n",
       "      <th>3</th>\n",
       "      <td>KERUPUK SEBLAK MENTAH 1KG WARNA WARNI - Mawar ...</td>\n",
       "      <td>23500</td>\n",
       "      <td>BociKakang</td>\n",
       "      <td>Jakarta Selatan</td>\n",
       "      <td>250</td>\n",
       "      <td>5.0</td>\n",
       "    </tr>\n",
       "    <tr>\n",
       "      <th>4</th>\n",
       "      <td>Seblak Rafael, Seblak Coet Instan Halal</td>\n",
       "      <td>25000</td>\n",
       "      <td>Brother Meat Shop</td>\n",
       "      <td>Depok</td>\n",
       "      <td>250</td>\n",
       "      <td>5.0</td>\n",
       "    </tr>\n",
       "    <tr>\n",
       "      <th>...</th>\n",
       "      <td>...</td>\n",
       "      <td>...</td>\n",
       "      <td>...</td>\n",
       "      <td>...</td>\n",
       "      <td>...</td>\n",
       "      <td>...</td>\n",
       "    </tr>\n",
       "    <tr>\n",
       "      <th>335</th>\n",
       "      <td>SEBRING KRUPUK KERUPUK SEBLAK KERING PEDAS DAU...</td>\n",
       "      <td>16000</td>\n",
       "      <td>Aydaa Snack</td>\n",
       "      <td>Surakarta</td>\n",
       "      <td>90</td>\n",
       "      <td>4.9</td>\n",
       "    </tr>\n",
       "    <tr>\n",
       "      <th>336</th>\n",
       "      <td>Gelifood Seblak Instan Kerupuk Mawar Bumbu Ken...</td>\n",
       "      <td>15000</td>\n",
       "      <td>Lidigeli</td>\n",
       "      <td>Kab. Garut</td>\n",
       "      <td>250</td>\n",
       "      <td>4.8</td>\n",
       "    </tr>\n",
       "    <tr>\n",
       "      <th>337</th>\n",
       "      <td>kerupuk seblak polos pedas 500gr jajanan cemil...</td>\n",
       "      <td>20000</td>\n",
       "      <td>pelangi khatulistiwa 2</td>\n",
       "      <td>Surabaya</td>\n",
       "      <td>40</td>\n",
       "      <td>4.9</td>\n",
       "    </tr>\n",
       "    <tr>\n",
       "      <th>338</th>\n",
       "      <td>seblak basreng pedas original exstra daun jeru...</td>\n",
       "      <td>25000</td>\n",
       "      <td>Seblak putra bandung</td>\n",
       "      <td>Kab. Bandung</td>\n",
       "      <td>250</td>\n",
       "      <td>4.8</td>\n",
       "    </tr>\n",
       "    <tr>\n",
       "      <th>339</th>\n",
       "      <td>Kerupuk Seblak Rafael Pedas / Seblak Mawar Ped...</td>\n",
       "      <td>16000</td>\n",
       "      <td>DUO BOCIL SNACK</td>\n",
       "      <td>Depok</td>\n",
       "      <td>100</td>\n",
       "      <td>5.0</td>\n",
       "    </tr>\n",
       "  </tbody>\n",
       "</table>\n",
       "<p>340 rows × 6 columns</p>\n",
       "</div>"
      ],
      "text/plain": [
       "                                           nama_produk  harga_produk  \\\n",
       "0    Seblak Instan Ceu Nthien Khas Bandung Rasana N...         17000   \n",
       "1                                 Kerupuk seblak pedas         15000   \n",
       "2    GFS Seblak Basah Instan Original - Tinggal Sed...         16618   \n",
       "3    KERUPUK SEBLAK MENTAH 1KG WARNA WARNI - Mawar ...         23500   \n",
       "4              Seblak Rafael, Seblak Coet Instan Halal         25000   \n",
       "..                                                 ...           ...   \n",
       "335  SEBRING KRUPUK KERUPUK SEBLAK KERING PEDAS DAU...         16000   \n",
       "336  Gelifood Seblak Instan Kerupuk Mawar Bumbu Ken...         15000   \n",
       "337  kerupuk seblak polos pedas 500gr jajanan cemil...         20000   \n",
       "338  seblak basreng pedas original exstra daun jeru...         25000   \n",
       "339  Kerupuk Seblak Rafael Pedas / Seblak Mawar Ped...         16000   \n",
       "\n",
       "                         toko               kota  jumlah_penjualan  \\\n",
       "0    Central Seblak Nusantara  Tangerang Selatan              2000   \n",
       "1              MACALONI SNACK             Cimahi                10   \n",
       "2        Lakoca Official Shop             Cimahi               100   \n",
       "3                  BociKakang    Jakarta Selatan               250   \n",
       "4           Brother Meat Shop              Depok               250   \n",
       "..                        ...                ...               ...   \n",
       "335               Aydaa Snack          Surakarta                90   \n",
       "336                  Lidigeli         Kab. Garut               250   \n",
       "337    pelangi khatulistiwa 2           Surabaya                40   \n",
       "338      Seblak putra bandung       Kab. Bandung               250   \n",
       "339           DUO BOCIL SNACK              Depok               100   \n",
       "\n",
       "     rating_produk  \n",
       "0              4.9  \n",
       "1              5.0  \n",
       "2              4.9  \n",
       "3              5.0  \n",
       "4              5.0  \n",
       "..             ...  \n",
       "335            4.9  \n",
       "336            4.8  \n",
       "337            4.9  \n",
       "338            4.8  \n",
       "339            5.0  \n",
       "\n",
       "[340 rows x 6 columns]"
      ]
     },
     "metadata": {},
     "output_type": "display_data"
    }
   ],
   "source": [
    "# cek dataframe\n",
    "df.info()\n",
    "display(df)"
   ]
  },
  {
   "cell_type": "markdown",
   "metadata": {},
   "source": [
    "Dapat terlihat bahwa seluruh data values dan tipe datanya sudah sesuai. Sehingga sampai disini, dataset pada dataframe 'df' sudh saip untuk digunakan."
   ]
  },
  {
   "cell_type": "markdown",
   "metadata": {},
   "source": [
    "***"
   ]
  },
  {
   "cell_type": "markdown",
   "metadata": {},
   "source": [
    "## C. Business Understanding/Problem Statement\n",
    "Pada bagian ini, akan dilakukan perumusan pernyataan masalah bisnis atau problem statement menggunakan metode SMART framework (Specific, Measurable, Achievable, Relevant, Time-bound) terkait kasus yang sedang dihadapi."
   ]
  },
  {
   "cell_type": "markdown",
   "metadata": {},
   "source": [
    "Berdasarkan case yang telah disebutkan sebelumnya, terdapat beberapa kata kunci yang bisa diambil.\n",
    "<br>\n",
    "* case:\n",
    "<br>\n",
    "Menjadi seorang yang ingin melakukan usaha dropship produk 'seblak' di platform Tokopedia, namun ingin melakukan `riset/analisa pasar` terlebih dahulu terkait bagaimana `animo masyarakat` terhadap produk tersebut dengan melihat `tren/tingkat penjualan produk` pada laman website e-commerce Tokopedia.\n"
   ]
  },
  {
   "cell_type": "markdown",
   "metadata": {},
   "source": [
    "Melalui kata kunci tersebut, terdapat beberapa main concern yang dapat diangkat, yaitu `Product market potential` dan `Public interest in the product`. Berdasarkan kedua hal tersebut, kita dapat mengetahui dan menentukan produk seblak mana yang akan dijual pada usaha dropshipping kita.\n"
   ]
  },
  {
   "cell_type": "markdown",
   "metadata": {},
   "source": [
    "Berikut merupakan SMART Framework untuk merumuskan problem statement dari usaha dropship ini.\n"
   ]
  },
  {
   "cell_type": "markdown",
   "metadata": {},
   "source": [
    "**Specific:**\n",
    "<br>Determine whether the public has a strong interest in seblak on Tokopedia website. \n",
    "\n",
    "**Measurable:**\n",
    "<br>Seblak products have been sold in at least 5 metropolitan cities in Indonesia and accompanied by a positive correlation in product rating value (p-value < 0.05)\n",
    "\n",
    "**Achievable:**\n",
    "<br>Calculate sales metrics by analyzing the total product sales data, geographic trends in product demand, and customer satisfaction, along with correlations between them.\n",
    "\n",
    "**Relevant:**\n",
    "<br>Analyzing the number of sales in big cities and accompanied by customer satisfaction can lead to great public interest.\n",
    "\n",
    "**Time-Bound:**\n",
    "<br>Complete the market research and analysis within 1 month"
   ]
  },
  {
   "cell_type": "markdown",
   "metadata": {},
   "source": [
    "**Problem Statement:**\n",
    "<br>\n",
    "The goal is to determine the public interest in seblak on Tokopedia website, which is interpreted by product sales in at least 5 metropolitan cities in Indonesia and accompanied by  a positive correlation in product rating value (p-value < 0.05). This will be achieved by analyzing the geographic trends in product demand, total product sales data, and customer satisfaction through rating value within one month reaserch."
   ]
  },
  {
   "cell_type": "markdown",
   "metadata": {},
   "source": [
    "***"
   ]
  },
  {
   "cell_type": "markdown",
   "metadata": {},
   "source": [
    "## D. Data Analysis\n",
    "Pada bagian ini, akan dilakukan berbagai analisa statistik untuk menginterpretasikan tren data sertaa mendapatkan insight didalamnya. Hal ini juga tentunya dilakukan untuk memenuhi tujuan yang elah dirumuskan sebelumnya pada bagian business understanding."
   ]
  },
  {
   "cell_type": "markdown",
   "metadata": {},
   "source": [
    "#### 1.) Statistik Deskriptif"
   ]
  },
  {
   "cell_type": "markdown",
   "metadata": {},
   "source": [
    "Sebelum menganalisis data lebih dalam, perlu dilakukan analisa statistik deskriptif untuk melihat gambaran data secara umum seperti distribusi data yang nantinya akan berpengaruh pada keakuratan dan signifikansi nilainya."
   ]
  },
  {
   "cell_type": "code",
   "execution_count": 10,
   "metadata": {},
   "outputs": [
    {
     "name": "stdout",
     "output_type": "stream",
     "text": [
      "Kolom 'harga_produk'\n",
      "Mean: 18033.88\n",
      "Median: 16000.0\n",
      "Standar Deviasi: 14819.76\n",
      "Skewness: 4.148868001514664\n",
      "Kurtosis: 26.224230628574148\n"
     ]
    }
   ],
   "source": [
    "# kolom harga_produk\n",
    "print(\"Kolom 'harga_produk'\")\n",
    "print(\"Mean:\", round(df['harga_produk'].mean(), 2)) # menampilkan rata-rata dan membulatkannya\n",
    "print(\"Median:\", df['harga_produk'].median()) # menampilkan median/nilai tengah\n",
    "print(\"Standar Deviasi:\", round(df['harga_produk'].std(), 2)) # menampilkan rata-rata dan membulatkannya\n",
    "print(\"Skewness:\", df['harga_produk'].skew()) # menampilkan nilai skewness\n",
    "print(\"Kurtosis:\", df['harga_produk'].kurtosis()) # menampilkan nilai kurtosis"
   ]
  },
  {
   "cell_type": "code",
   "execution_count": 32,
   "metadata": {},
   "outputs": [
    {
     "data": {
      "image/png": "[encoded data removed]",
      "text/plain": [
       "<Figure size 1200x600 with 1 Axes>"
      ]
     },
     "metadata": {},
     "output_type": "display_data"
    }
   ],
   "source": [
    "# Create histogram\n",
    "plt.figure(figsize=(12, 6))\n",
    "sns.histplot(df['harga_produk'], kde=True, color='green')\n",
    "\n",
    "# Add labels and title\n",
    "plt.xlabel('Harga Produk')\n",
    "plt.ylabel('Frequency')\n",
    "plt.title(f'Seblak Product Price Data Distribution', fontsize=15)\n",
    "\n",
    "# Show the plot\n",
    "plt.show()"
   ]
  },
  {
   "cell_type": "markdown",
   "metadata": {},
   "source": [
    "* Berdasarkan statistik deskriptif dari kolom harga_produk, diketahui bahwa rerata harga seblak berkisar pada Rp18.033 dengan nilai tengahnya di harga Rp16.000 dan disertai dengan standar deviasi sebesar 14819.76. Melalui perbandingan nilai komponen tersebut, dapat diketahui bahwa data memiliki jarak persebaran yang cukup jauh/luas. Hal ini juga didukung oleh nilai skewness yang bernilai 4.148868001514664 (> 1) atau yang tergolong 'highly skewed' dan nilai kurtosis sebesar 26.224230628574148 (> 0) atau yang tergolong leptokurtic. Dengan demikian, dapat dikatakan bahwa data harga produk memiliki distirbusi yang tidak normal dan cendrung memiliki banyak data outlier."
   ]
  },
  {
   "cell_type": "code",
   "execution_count": 11,
   "metadata": {},
   "outputs": [
    {
     "name": "stdout",
     "output_type": "stream",
     "text": [
      "Kolom 'jumlah_penjualan'\n",
      "Mean: 1214.46\n",
      "Median: 250.0\n",
      "Standar Deviasi: 2575.23\n",
      "Skewness: 2.8032911707702834\n",
      "Kurtosis: 6.782808577833659\n"
     ]
    }
   ],
   "source": [
    "# kolom jumlah_penjualan\n",
    "print(\"Kolom 'jumlah_penjualan'\")\n",
    "print(\"Mean:\", round(df['jumlah_penjualan'].mean(), 2)) # menampilkan rata-rata dan membulatkannya\n",
    "print(\"Median:\", df['jumlah_penjualan'].median()) # menampilkan median/nilai tengah\n",
    "print(\"Standar Deviasi:\", round(df['jumlah_penjualan'].std(), 2)) # menampilkan rata-rata dan membulatkannya\n",
    "print(\"Skewness:\", df['jumlah_penjualan'].skew()) # menampilkan nilai skewness\n",
    "print(\"Kurtosis:\", df['jumlah_penjualan'].kurtosis()) # menampilkan nilai kurtosis"
   ]
  },
  {
   "cell_type": "markdown",
   "metadata": {},
   "source": [
    "* Berdasarkan statistik deskriptif dari kolom 'jumlah_penjualan', diketahui bahwa rerata penjualan produk seblak berkisar pada 1214 pcs dengan nilai tengahnya di 250 pcs dan disertai dengan standar deviasi yang tinggi yaitu sebesar 2575.23. Melalui perbandingan nilai komponen tersebut, dapat diketahui bahwa data memiliki jarak persebaran yang jauh/luas. Hal ini juga didukung oleh nilai skewness yang bernilai 2.8032911707702834 (> 1) atau yang tergolong 'highly skewed' dan nilai kurtosis sebesar 6.782808577833659 (> 0) atau yang tergolong leptokurtic. Dengan demikian, dapat dikatakan juga bahwa data jumlah penjualan memiliki distirbusi yang tidak normal dan cendrung memiliki banyak data outlier."
   ]
  },
  {
   "cell_type": "code",
   "execution_count": 12,
   "metadata": {},
   "outputs": [
    {
     "name": "stdout",
     "output_type": "stream",
     "text": [
      "Kolom 'rating_produk'\n",
      "Mean: 4.91\n",
      "Median: 4.9\n",
      "Standar Deviasi: 0.08\n",
      "Skewness: -0.6737871834492707\n",
      "Kurtosis: 0.5383786152514105\n"
     ]
    }
   ],
   "source": [
    "# kolom rating_produk\n",
    "print(\"Kolom 'rating_produk'\")\n",
    "print(\"Mean:\", round(df['rating_produk'].mean(), 2)) # menampilkan rata-rata dan membulatkannya\n",
    "print(\"Median:\", df['rating_produk'].median()) # menampilkan median/nilai tengah\n",
    "print(\"Standar Deviasi:\", round(df['rating_produk'].std(), 2)) # menampilkan rata-rata dan membulatkannya\n",
    "print(\"Skewness:\", df['rating_produk'].skew()) # menampilkan nilai skewness\n",
    "print(\"Kurtosis:\", df['rating_produk'].kurtosis()) # menampilkan nilai kurtosis"
   ]
  },
  {
   "cell_type": "markdown",
   "metadata": {},
   "source": [
    "* Berdasarkan statistik deskriptif dari kolom 'rating_produk', diketahui bahwa rerata rating produk seblak berkisar pada nilai 4.91 dengan nilai tengahnya di nilai 4.9 dan disertai dengan standar deviasi yang terbilang rendah yaitu bernilai 0.08. Melalui perbandingan nilai komponen tersebut, dapat diketahui bahwa persebaran data terlihat cukup terpusat (berkisar pada reratanya). Kemudian, data juga memiliki komponen lainnya seperti nilai skewness yang bernilai -0.6737871834492707 (diantara -1 dan -0) atau yang tergolong 'moderately skewed' dengan tipe negative skew, serta nilai kurtosis sebesar 0.5383786152514105 (> 0) atau yang tergolong leptokurtic. Berdasarkan hal tersebut, data rating produk masih dapat dikatakan belum memiliki distirbusi yang normal serta masih berkemungkinan untuk memiliki data outlier meskipun tidak setinggi kemungkinan outlier pada data kolom harga_produk dan jumlah_penjualan."
   ]
  },
  {
   "cell_type": "markdown",
   "metadata": {},
   "source": [
    "#### 2.) Potensi minimum dan maksimum pendapatan dari produk seblak"
   ]
  },
  {
   "cell_type": "markdown",
   "metadata": {},
   "source": [
    "Untuk melihat berapa potensi minimum dan maksimum pendapatan yang diperoleh jika usaha dropship menjual produk seblak, maka pertama yang dilakukan adalah mengetahui pendapatan/omset dari tiap produk, yang bisa dilakukan dengan cara mengalikan harga produk dengan jumlah penjualan produk (informasi penjualan produk merupakan penjualan produk per bulan)."
   ]
  },
  {
   "cell_type": "code",
   "execution_count": 50,
   "metadata": {},
   "outputs": [
    {
     "name": "stderr",
     "output_type": "stream",
     "text": [
      "C:\\Users\\user\\AppData\\Local\\Temp\\ipykernel_26948\\3272017383.py:2: SettingWithCopyWarning: \n",
      "A value is trying to be set on a copy of a slice from a DataFrame.\n",
      "Try using .loc[row_indexer,col_indexer] = value instead\n",
      "\n",
      "See the caveats in the documentation: https://pandas.pydata.org/pandas-docs/stable/user_guide/indexing.html#returning-a-view-versus-a-copy\n",
      "  df['omset_produk'] = df['harga_produk'] * df['jumlah_penjualan']\n"
     ]
    }
   ],
   "source": [
    "# membuat kolom pendapatan/omset produk seblak\n",
    "df['omset_produk'] = df['harga_produk'] * df['jumlah_penjualan']"
   ]
  },
  {
   "cell_type": "code",
   "execution_count": 51,
   "metadata": {},
   "outputs": [
    {
     "data": {
      "text/plain": [
       "180000000"
      ]
     },
     "execution_count": 51,
     "metadata": {},
     "output_type": "execute_result"
    }
   ],
   "source": [
    "max(df['omset_produk'])"
   ]
  },
  {
   "cell_type": "code",
   "execution_count": 52,
   "metadata": {},
   "outputs": [
    {
     "name": "stdout",
     "output_type": "stream",
     "text": [
      "Lower Limit: 8421111\n",
      "upper Limit: 12625293\n"
     ]
    }
   ],
   "source": [
    "# menghitung confidence interval (dengan asumsi bahwa data terdistribusi normal)\n",
    "from scipy import stats # package yang berisi berbagai fungsi untuk keperluan analisis statistik\n",
    "import numpy as np # package yang berisi berbagai fungsi untuk keperluan operasi matematika\n",
    "\n",
    "std_omset = df['omset_produk'].std() # standar deviasi dari kolom omset_produk\n",
    "N = len(df['omset_produk']) # panjang data dari kolom omset_produk\n",
    "low, up = stats.norm.interval(0.95,loc=df['omset_produk'].mean(),scale=std_omset/np.sqrt(N)) # mencari lower dan upper limit menggunakan confidence level 95%\n",
    "\n",
    "print(\"Lower Limit:\", round(low))\n",
    "print(\"upper Limit:\",round(up))"
   ]
  },
  {
   "cell_type": "markdown",
   "metadata": {},
   "source": [
    "* Berdasarkan perhitungan confidence interval dengan confidence level 95%, diperoleh lower dan upper limit yang dapat dalam hal ini dapat dianggap sebagai potensi minimum dan maksimum pendapatan (per bulan) dari penjualan produk seblak. Potensi minimum pendapatan penjualan seblak adalah sebesar Rp8.421.111 per bulan, sedangkan Potensi minimum pendapatan penjualan seblak adalah sebesar Rp12.625.293 per bulannya."
   ]
  },
  {
   "cell_type": "markdown",
   "metadata": {},
   "source": [
    "#### 3.) Analisa Geographic Trends"
   ]
  },
  {
   "cell_type": "markdown",
   "metadata": {},
   "source": [
    "Selain mempertimbangkan pendapatan yang akan diperoleh, harga produk seblak yang akan dijual pada usaha dropship nantinya juga perlu untuk dipertimbangkan. Mengingat biaya bahan baku produk, logistik, dan lainnya yang tentunya berbeda untuk setiap daerah.<br>\n",
    "Dalam hal ini, kita dapat membandingkan harga produk yang dijual di Jabodetabek dan luar Jabodetabek, dikarenakan Jabodetabek sendiri menjadi 5 kawasan metropolitan pusat yang ada di Indonesia."
   ]
  },
  {
   "cell_type": "markdown",
   "metadata": {},
   "source": [
    "Untuk menganalisa hal tersebut, kita dapat menerapkan uji hipotesis. Adapun hipotesis yang akan didefinisikan/diuji adalah sebagai berikut:\n",
    "* H0 = Harga produk di Jabodetabek dan luar Jabodetabek tidak berbeda\n",
    "* H1 = Harga produk di Jabodetabek dan luar Jabodetabek berbeda"
   ]
  },
  {
   "cell_type": "code",
   "execution_count": 16,
   "metadata": {},
   "outputs": [
    {
     "data": {
      "text/plain": [
       "kota\n",
       "Tangerang Selatan    71\n",
       "Depok                62\n",
       "Jakarta Barat        42\n",
       "Kab. Garut           26\n",
       "Jakarta Timur        24\n",
       "Surakarta            21\n",
       "Surabaya             21\n",
       "Bandung              20\n",
       "Kab. Bandung         15\n",
       "Jakarta Selatan      10\n",
       "Cimahi                6\n",
       "Kab. Tangerang        5\n",
       "Tangerang             4\n",
       "Jakarta Pusat         2\n",
       "Kab. Sidoarjo         2\n",
       "Semarang              2\n",
       "Malang                1\n",
       "Makassar              1\n",
       "Kab. Bekasi           1\n",
       "Kab. Sukabumi         1\n",
       "Tasikmalaya           1\n",
       "Kab. Sumedang         1\n",
       "Medan                 1\n",
       "Name: count, dtype: int64"
      ]
     },
     "execution_count": 16,
     "metadata": {},
     "output_type": "execute_result"
    }
   ],
   "source": [
    "# memeriksa kota apa saja yang tersedia\n",
    "df['kota'].value_counts()"
   ]
  },
  {
   "cell_type": "code",
   "execution_count": 12,
   "metadata": {},
   "outputs": [],
   "source": [
    "# melakukan filter data untuk yang jabodetabek dan bukan\n",
    "jabodetabek = ['Tangerang Selatan', 'Depok', 'Jakarta Barat', 'Jakarta Timur', 'Jakarta Selatan', 'Kab. Tangerang', 'Tangerang', 'Jakarta Pusat', 'Kab. Bekasi']\n",
    "\n",
    "harga_jabodetabek = df[df['kota'].isin(jabodetabek)][['harga_produk']] # data harga-harga produk di jabodetabek\n",
    "harga_non_jabodetabek = df[~df['kota'].isin(jabodetabek)][['harga_produk']] # data harga-harga produk di luar jabodetabek"
   ]
  },
  {
   "cell_type": "code",
   "execution_count": 16,
   "metadata": {},
   "outputs": [
    {
     "name": "stdout",
     "output_type": "stream",
     "text": [
      "Rerata harga produk di Jabodetabek: 17136.592760180996\n",
      "Rerata harga produk di luar Jabodetabek: 19700.277310924368\n"
     ]
    }
   ],
   "source": [
    "# melihat rerata harga produk di dalam dan luar jabodetabek\n",
    "mean_jabodetabek = harga_jabodetabek['harga_produk'].mean()\n",
    "mean_non_jabodetabek = harga_non_jabodetabek['harga_produk'].mean()\n",
    "print(f\"Rerata harga produk di Jabodetabek: {mean_jabodetabek}\")\n",
    "print(f\"Rerata harga produk di luar Jabodetabek: {mean_non_jabodetabek}\")"
   ]
  },
  {
   "cell_type": "code",
   "execution_count": 47,
   "metadata": {},
   "outputs": [
    {
     "name": "stderr",
     "output_type": "stream",
     "text": [
      "C:\\Users\\user\\AppData\\Local\\Temp\\ipykernel_26948\\702589225.py:3: FutureWarning: \n",
      "\n",
      "Passing `palette` without assigning `hue` is deprecated and will be removed in v0.14.0. Assign the `x` variable to `hue` and set `legend=False` for the same effect.\n",
      "\n",
      "  bars = sns.barplot(x=[\"Jabodetabek\", \"Non Jabodetabek\"], y=[mean_jabodetabek, mean_non_jabodetabek], palette=['green', 'lightgreen'])\n"
     ]
    },
    {
     "data": {
      "image/png": "[encoded data removed]",
      "text/plain": [
       "<Figure size 600x500 with 1 Axes>"
      ]
     },
     "metadata": {},
     "output_type": "display_data"
    }
   ],
   "source": [
    "# Create bar plot\n",
    "plt.figure(figsize=(6,5))\n",
    "bars = sns.barplot(x=[\"Jabodetabek\", \"Non Jabodetabek\"], y=[mean_jabodetabek, mean_non_jabodetabek], palette=['green', 'lightgreen'])\n",
    "\n",
    "# Add labels and title\n",
    "plt.xlabel('Categories')\n",
    "plt.ylabel('Values')\n",
    "plt.title('Average Seblak Price', fontsize=14)\n",
    "\n",
    "# Add labels inside the bars\n",
    "for bar, label in zip(bars.patches, [mean_jabodetabek, mean_non_jabodetabek]):\n",
    "    height = bar.get_height()\n",
    "    plt.text(bar.get_x() + bar.get_width()/2, height/2, round(label, 1), ha='center', va='center', color='black', fontsize=10)\n",
    "\n",
    "# Show the plot\n",
    "plt.show()"
   ]
  },
  {
   "cell_type": "markdown",
   "metadata": {},
   "source": [
    "Berdasarkan perhitungan rerata, sekilas terlihat bahwa rerata harga produk di luar Jabodetabek lebih tinggi dibandingkan di dalam Jabodetabek. Untuk menguji signifikansi perbedaan harga kedua daerah tersebut, dapat dilanjutkan pada uji hipotesis Two-Sample Independent Test."
   ]
  },
  {
   "cell_type": "code",
   "execution_count": 19,
   "metadata": {},
   "outputs": [
    {
     "name": "stdout",
     "output_type": "stream",
     "text": [
      "T-Statistic: -1.5244029889621575\n",
      "P-value: 0.1283431610508671\n"
     ]
    }
   ],
   "source": [
    "# Uji Hipotesis\n",
    "# Two-Sample Independent Test\n",
    "t_stat, p_val = stats.ttest_ind(harga_jabodetabek['harga_produk'],harga_non_jabodetabek['harga_produk'])\n",
    "print('T-Statistic:',t_stat)\n",
    "print('P-value:',p_val)"
   ]
  },
  {
   "cell_type": "markdown",
   "metadata": {},
   "source": [
    "Berdasarkan hasil analisis uji hipotesis, didapat nilai T-Statistic sebesar -1.5244029889621575. Nilai minus (-) pada T-Statistic mengindikasikan bahwa grup 1 memiliki rerata yang lebih kecil dibandingkan grup 2, yang mana dalam hal ini berarti rerata harga produk pada Jabodetabek lebih kecil dibandingkan rerata di luar Jabodetabek. <br><br>\n",
    "Kemudian didapat juga nilai P-value sebesar 0.1283431610508671 atau > 0.05, sehingga perbedaan rerata harga produk di Jabodetabek dan luar Jabodetabek tidak bisa dianggap signifikan, atau dengan kata lain H0 dapat diterima yaitu \"Harga produk di Jabodetabek dan luar Jabodetabek tidak berbeda\""
   ]
  },
  {
   "cell_type": "markdown",
   "metadata": {},
   "source": [
    "#### 4.) Analisa Korelasi Public Interest dengan Harga Produk"
   ]
  },
  {
   "cell_type": "markdown",
   "metadata": {},
   "source": [
    "Berikutnya, kita akan menganalisis apakah orang-orang cendrung menyukai produk seblak yang harganya murah atau malah harga produk tidak mempengaruhi ketertarikan tersebut. Hal ini bisa kita analisa melalui korelasi antara harga produk dan nilai rating yang diberikan pelanggan kepada produk tersebut menggunakan metode `Chi-Squared Test`."
   ]
  },
  {
   "cell_type": "markdown",
   "metadata": {},
   "source": [
    "Untuk menganalisa hubungan tersebut, hipotesis yang didefinisikan/diuji adalah sebagai berikut:\n",
    "* H0 = Tidak terdapat hubungan antara harga produk dan rating produk\n",
    "* H1 = Terdapat hubungan antara harga produk dan rating produk"
   ]
  },
  {
   "cell_type": "code",
   "execution_count": 22,
   "metadata": {},
   "outputs": [
    {
     "name": "stdout",
     "output_type": "stream",
     "text": [
      "P-value: 5.133294870630839e-84\n"
     ]
    }
   ],
   "source": [
    "# Chi-Square Test\n",
    "cross = pd.crosstab(df['harga_produk'],df['rating_produk']) # mendefinisikan tabel kontingensi/hubungan variabel\n",
    "pval = stats.chi2_contingency(cross).pvalue\n",
    "print(\"P-value:\",pval)"
   ]
  },
  {
   "cell_type": "markdown",
   "metadata": {},
   "source": [
    "Berdasarkan analisis Chi-Square Test, didapat P-Value sebesar 5.133x10^(-84), yang mana nilai tersebut jauh dibawah critical value (p-value < 0.05). Melalui nilai tersebut, maka H0 ditolak atau dapat disimpulkan bahwa benar terdapat adanya hubungan antara harga produk dan rating produk, yang mana harga produk yang murah cendrung mendapat nilai rating yang tinggi atau lebih disukai."
   ]
  },
  {
   "cell_type": "markdown",
   "metadata": {},
   "source": [
    "***"
   ]
  },
  {
   "cell_type": "markdown",
   "metadata": {},
   "source": [
    "# E. Conclusion"
   ]
  },
  {
   "cell_type": "markdown",
   "metadata": {},
   "source": [
    "Pada kesimpulannya, terdapat minat masyarakat (Public Interest) yang besar pada produk seblak berdasarkan data penjualan yang ada di website Tokopedia. Hal tersebut dapat terlihat dari banyaknya penjualan yang ada, baik dalam lingkup Jabodetabek maupun luar Jabodetabek. Kemudian untuk sisi bisnis, produk seblak dapat dikatakan cocok untuk menjadi produk dagang/komoditas pada usaha dropship yang akan dibuka, dikarenakan adanya margin potensi pendapatan yang cukup baik dan harga jualnya yang tidak jauh berbeda antara luar dan dalam kawasan pusat (Jabodetabek), sehingga tidak beresiko mengganggu animo masyarakat akan produk dengan harga terjangkau."
   ]
  }
 ],
 "metadata": {
  "kernelspec": {
   "display_name": "base",
   "language": "python",
   "name": "python3"
  },
  "language_info": {
   "codemirror_mode": {
    "name": "ipython",
    "version": 3
   },
   "file_extension": ".py",
   "mimetype": "text/x-python",
   "name": "python",
   "nbconvert_exporter": "python",
   "pygments_lexer": "ipython3",
   "version": "3.9.18"
  }
 },
 "nbformat": 4,
 "nbformat_minor": 2
}
